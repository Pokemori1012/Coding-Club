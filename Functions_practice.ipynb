{
  "nbformat": 4,
  "nbformat_minor": 0,
  "metadata": {
    "colab": {
      "provenance": [],
      "authorship_tag": "ABX9TyNPBqmwcpkOerg63Y6AROwq",
      "include_colab_link": true
    },
    "kernelspec": {
      "name": "python3",
      "display_name": "Python 3"
    },
    "language_info": {
      "name": "python"
    }
  },
  "cells": [
    {
      "cell_type": "markdown",
      "metadata": {
        "id": "view-in-github",
        "colab_type": "text"
      },
      "source": [
        "<a href=\"https://colab.research.google.com/github/Pokemori1012/Coding-Club/blob/main/Functions_practice.ipynb\" target=\"_parent\"><img src=\"https://colab.research.google.com/assets/colab-badge.svg\" alt=\"Open In Colab\"/></a>"
      ]
    },
    {
      "cell_type": "code",
      "execution_count": null,
      "metadata": {
        "id": "cmFQgUaJYXp8"
      },
      "outputs": [],
      "source": []
    },
    {
      "cell_type": "code",
      "source": [
        "def greeting_hello():\n",
        "  print(\"Hello\")\n",
        "  print(\"My name is Justin\")\n",
        "  greeting_bye()\n",
        "\n",
        "def greeting_bye():\n",
        "  print(\"Bye\")"
      ],
      "metadata": {
        "id": "fD0hWWsQZNWF"
      },
      "execution_count": 26,
      "outputs": []
    },
    {
      "cell_type": "code",
      "source": [
        "greeting_hello()\n",
        "greeting_bye()"
      ],
      "metadata": {
        "colab": {
          "base_uri": "https://localhost:8080/"
        },
        "id": "AZlPpjoabOGB",
        "outputId": "4eb86eb8-0455-4c26-a842-54fff13e40eb"
      },
      "execution_count": 27,
      "outputs": [
        {
          "output_type": "stream",
          "name": "stdout",
          "text": [
            "Hello\n",
            "My name is Justin\n",
            "Bye\n",
            "Bye\n"
          ]
        }
      ]
    }
  ]
}