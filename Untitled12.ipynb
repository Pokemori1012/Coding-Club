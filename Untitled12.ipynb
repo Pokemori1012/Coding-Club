{
  "nbformat": 4,
  "nbformat_minor": 0,
  "metadata": {
    "colab": {
      "provenance": [],
      "authorship_tag": "ABX9TyPTWtCfN0HZ+SWN80ZRk45T",
      "include_colab_link": true
    },
    "kernelspec": {
      "name": "python3",
      "display_name": "Python 3"
    },
    "language_info": {
      "name": "python"
    }
  },
  "cells": [
    {
      "cell_type": "markdown",
      "metadata": {
        "id": "view-in-github",
        "colab_type": "text"
      },
      "source": [
        "<a href=\"https://colab.research.google.com/github/Pokemori1012/Coding-Club/blob/main/Untitled12.ipynb\" target=\"_parent\"><img src=\"https://colab.research.google.com/assets/colab-badge.svg\" alt=\"Open In Colab\"/></a>"
      ]
    },
    {
      "cell_type": "code",
      "execution_count": 2,
      "metadata": {
        "colab": {
          "base_uri": "https://localhost:8080/"
        },
        "id": "4qfjlp4wgz0p",
        "outputId": "b473457e-da9c-4e82-b9b0-42d8f19e5686"
      },
      "outputs": [
        {
          "output_type": "stream",
          "name": "stdout",
          "text": [
            "Rock Paper Scissors \n",
            "\n",
            "Select your move (R, P or S)\n",
            "\n",
            "Player 1 > ··········\n",
            "\n",
            "Player 2 > ··········\n",
            "\n",
            "Player 1 wins\n"
          ]
        }
      ],
      "source": [
        "from getpass import getpass as input\n",
        "\n",
        "print(\"Rock Paper Scissors \")\n",
        "print()\n",
        "print(\"Select your move (R, P or S)\")\n",
        "print()\n",
        "\n",
        "player_1Move = input(\"Player 1 > \")\n",
        "print()\n",
        "player2Move = input(\"Player 2 > \")\n",
        "print()\n",
        "\n",
        "if player_1Move==\"R\":\n",
        "  if player2Move==\"R\":\n",
        "    print(\"draw!\")\n",
        "  elif player2Move==\"S\":\n",
        "    print(\"player 1 wins!\")\n",
        "  elif player2Move==\"P\":\n",
        "    print(\"Player 2 wins!\")\n",
        "  else:\n",
        "    print(\"!\")\n",
        "elif player_1Move == \"P\":\n",
        "  if player2Move == \"R\":\n",
        "    print(\"Player 1 wins\")\n",
        "  elif player2Move == \"S\":\n",
        "    print(\"Player 2 wins\")\n",
        "  elif player2Move == \"P\":\n",
        "    print(\"Draw.\")\n",
        "  else:\n",
        "    print(\"!\")\n",
        "elif player_1Move == \"S\":\n",
        "  if player2Move == \"R\":\n",
        "    print(\"Player 2 wins\")\n",
        "  elif player2Move == \"S\":\n",
        "    print(\"Draw.\")\n",
        "  elif player2Move == \"P\":\n",
        "    print(\"Player 1 wins\")\n",
        "  else:\n",
        "    print(\"!\")\n",
        "else:\n",
        "  print(\"!\")"
      ]
    },
    {
      "cell_type": "code",
      "source": [
        "from replit import audio\n",
        "import os, time\n",
        "def play():\n",
        "  source = audio.play_file('audio.wav')\n",
        "  source.paused = False # unpause the playback\n",
        "  while True:\n",
        "    stop_playback = int(input(\"Press 2 anytime to stop playback and go back to the menu : \")) # giving the user the option to stop playback\n",
        "    if stop_playback == 2:\n",
        "      source.paused = True # let's pause the file\n",
        "      return # let's go back from this play() subroutine\n",
        "    else:\n",
        "      continue\n",
        "\n",
        "while True:\n",
        "  os.system(\"clear\")\n",
        "  print(\"🎵 MyPOD Music Player \")\n",
        "  time.sleep(1)\n",
        "  print(\"Press 1 to Play\")\n",
        "  time.sleep(1)\n",
        "  print(\"Press 2 to Exit\")\n",
        "  time.sleep(1)\n",
        "  print(\"Press anything else to see the menu again\")\n",
        "  userInput = int(input())\n",
        "  if userInput == 1:\n",
        "    print(\"Playing some proper tunes!\")\n",
        "    play()\n",
        "  elif userInput == 2:\n",
        "    exit()\n",
        "  else :\n",
        "    continue"
      ],
      "metadata": {
        "id": "36gI468-ioJi"
      },
      "execution_count": null,
      "outputs": []
    }
  ]
}